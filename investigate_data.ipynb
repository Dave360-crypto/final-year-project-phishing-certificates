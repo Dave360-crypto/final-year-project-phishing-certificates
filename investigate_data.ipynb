{
 "cells": [
  {
   "cell_type": "code",
   "execution_count": 1,
   "metadata": {},
   "outputs": [],
   "source": [
    "import numpy as np\n",
    "import pandas as pd\n",
    "import matplotlib.pyplot as plt\n",
    "from collections import Counter"
   ]
  },
  {
   "cell_type": "code",
   "execution_count": 2,
   "metadata": {},
   "outputs": [],
   "source": [
    "dataset_list = ['16-04','18-04','19-04','20-04','21-04','22-04','23-04','24-04','30-04','01-05','03-05','04-05','05-05','07-05']"
   ]
  },
  {
   "cell_type": "code",
   "execution_count": 3,
   "metadata": {},
   "outputs": [],
   "source": [
    "datasets = [dict() for i in dataset_list]"
   ]
  },
  {
   "cell_type": "code",
   "execution_count": 5,
   "metadata": {},
   "outputs": [
    {
     "name": "stdout",
     "output_type": "stream",
     "text": [
      "5872\n",
      "5762\n",
      "5765\n",
      "5636\n",
      "5573\n",
      "5721\n",
      "5506\n"
     ]
    }
   ],
   "source": [
    "for i,e in enumerate(dataset_list):\n",
    "    datasets[i]['path'] = \"url_datasets/phishtank-\"+e+\".csv\"\n",
    "\n",
    "    df = pd.read_csv(datasets[i]['path'])\n",
    "    urls = df['url']\n",
    "    new_urls = [u.split(\"/\")[2] for u in urls]\n",
    "    distinct_urls = list(set(new_urls))\n",
    "    datasets[i]['distinct_urls'] = distinct_urls\n",
    "    print(len(distinct_urls))"
   ]
  },
  {
   "cell_type": "markdown",
   "metadata": {},
   "source": [
    "## show how many unique URLs added and removed between each day"
   ]
  },
  {
   "cell_type": "code",
   "execution_count": 12,
   "metadata": {
    "scrolled": true
   },
   "outputs": [],
   "source": [
    "for i,e in enumerate(dataset_list[:-1]):\n",
    "    new_novel = np.ones(len(datasets[i+1]['distinct_urls']),dtype=bool)\n",
    "    old_novel = np.ones(len(datasets[i]['distinct_urls']),dtype=bool)\n",
    "\n",
    "    for url in datasets[i]['distinct_urls']:\n",
    "        for j,z in enumerate(datasets[i+1]['distinct_urls']):\n",
    "            if url == z:\n",
    "                new_novel[j] = False\n",
    "\n",
    "    for url in datasets[i+1]['distinct_urls']:\n",
    "        for j,z in enumerate(datasets[i]['distinct_urls']):\n",
    "            if url == z:\n",
    "                old_novel[j] = False\n",
    "    datasets[i]['old_novel'] = old_novel\n",
    "    datasets[i+1]['new_novel'] = new_novel"
   ]
  },
  {
   "cell_type": "markdown",
   "metadata": {},
   "source": [
    "### how many got taken down next day/dataset"
   ]
  },
  {
   "cell_type": "code",
   "execution_count": 15,
   "metadata": {},
   "outputs": [
    {
     "name": "stdout",
     "output_type": "stream",
     "text": [
      "16-04 vs 18-04:\n",
      "Counter({False: 5299, True: 573})\n",
      "18-04 vs 20-04:\n",
      "Counter({False: 5274, True: 488})\n",
      "20-04 vs 21-04:\n",
      "Counter({False: 5420, True: 345})\n",
      "21-04 vs 22-04:\n",
      "Counter({False: 5311, True: 325})\n",
      "22-04 vs 23-04:\n",
      "Counter({False: 5257, True: 316})\n",
      "23-04 vs 24-04:\n",
      "Counter({False: 5458, True: 263})\n"
     ]
    }
   ],
   "source": [
    "for i,e in enumerate(dataset_list[:-1]):\n",
    "    print(\"{} vs {}:\".format(e,dataset_list[i+1]))\n",
    "    print(Counter(datasets[i]['old_novel']))"
   ]
  },
  {
   "cell_type": "markdown",
   "metadata": {},
   "source": [
    "### how many new ones got verified"
   ]
  },
  {
   "cell_type": "code",
   "execution_count": 18,
   "metadata": {},
   "outputs": [
    {
     "name": "stdout",
     "output_type": "stream",
     "text": [
      "18-04 vs 16-04:\n",
      "Counter({False: 5299, True: 463})\n",
      "20-04 vs 18-04:\n",
      "Counter({False: 5274, True: 491})\n",
      "21-04 vs 20-04:\n",
      "Counter({False: 5420, True: 216})\n",
      "22-04 vs 21-04:\n",
      "Counter({False: 5311, True: 262})\n",
      "23-04 vs 22-04:\n",
      "Counter({False: 5257, True: 464})\n",
      "24-04 vs 23-04:\n",
      "Counter({False: 5458, True: 48})\n"
     ]
    }
   ],
   "source": [
    "for i,e in enumerate(dataset_list[:-1]):\n",
    "    print(\"{} vs {}:\".format(dataset_list[i+1],e))\n",
    "    print(Counter(datasets[i+1]['new_novel']))"
   ]
  },
  {
   "cell_type": "markdown",
   "metadata": {},
   "source": [
    "# how many certificates got fetched"
   ]
  },
  {
   "cell_type": "code",
   "execution_count": 34,
   "metadata": {
    "scrolled": true
   },
   "outputs": [],
   "source": [
    "for i,e in enumerate(datasets):\n",
    "\n",
    "    is_empty = np.ones(len(e['distinct_urls']),dtype=bool)\n",
    "    for j,url in enumerate(e['distinct_urls']):\n",
    "        path = 'phish_data-'+dataset_list[i]+'/'\n",
    "        try:\n",
    "            f = open(path+url)    \n",
    "            if f.readline() != '':\n",
    "                is_empty[j] = False\n",
    "        except:\n",
    "            pass\n",
    "    datasets[i]['is_empty'] = is_empty"
   ]
  },
  {
   "cell_type": "code",
   "execution_count": 46,
   "metadata": {},
   "outputs": [
    {
     "name": "stdout",
     "output_type": "stream",
     "text": [
      "16-04\n",
      "Counter({False: 4476, True: 1396})\n",
      "18-04\n",
      "Counter({False: 4345, True: 1417})\n",
      "20-04\n",
      "Counter({False: 4946, True: 819})\n",
      "21-04\n",
      "Counter({False: 4707, True: 929})\n",
      "22-04\n",
      "Counter({False: 3629, True: 1944})\n",
      "23-04\n",
      "Counter({True: 3884, False: 1837})\n",
      "24-04\n",
      "Counter({False: 4684, True: 822})\n"
     ]
    }
   ],
   "source": [
    "for i,e in enumerate(datasets):\n",
    "    print(dataset_list[i])\n",
    "    print(Counter(e['is_empty']))"
   ]
  },
  {
   "cell_type": "markdown",
   "metadata": {},
   "source": [
    "## failure rate for fresh websites"
   ]
  },
  {
   "cell_type": "code",
   "execution_count": 39,
   "metadata": {},
   "outputs": [
    {
     "name": "stdout",
     "output_type": "stream",
     "text": [
      "16-04\n",
      "Counter({False: 5299, True: 463})\n",
      "Counter({False: 5455, True: 307})\n",
      "18-04\n",
      "Counter({False: 5274, True: 491})\n",
      "Counter({False: 5615, True: 150})\n",
      "20-04\n",
      "Counter({False: 5420, True: 216})\n",
      "Counter({False: 5571, True: 65})\n",
      "21-04\n",
      "Counter({False: 5311, True: 262})\n",
      "Counter({False: 5457, True: 116})\n",
      "22-04\n",
      "Counter({False: 5257, True: 464})\n",
      "Counter({False: 5357, True: 364})\n",
      "23-04\n",
      "Counter({False: 5458, True: 48})\n",
      "Counter({False: 5485, True: 21})\n"
     ]
    }
   ],
   "source": [
    "for i,e in enumerate(datasets[1:]):\n",
    "    print(dataset_list[i])\n",
    "    print(Counter(e['new_novel']))\n",
    "    print(Counter(np.logical_and(e['is_empty'],e['new_novel'])))"
   ]
  },
  {
   "cell_type": "code",
   "execution_count": null,
   "metadata": {},
   "outputs": [],
   "source": []
  },
  {
   "cell_type": "code",
   "execution_count": null,
   "metadata": {},
   "outputs": [],
   "source": []
  },
  {
   "cell_type": "code",
   "execution_count": null,
   "metadata": {},
   "outputs": [],
   "source": []
  },
  {
   "cell_type": "code",
   "execution_count": null,
   "metadata": {},
   "outputs": [],
   "source": []
  },
  {
   "cell_type": "code",
   "execution_count": null,
   "metadata": {},
   "outputs": [],
   "source": []
  },
  {
   "cell_type": "code",
   "execution_count": null,
   "metadata": {},
   "outputs": [],
   "source": []
  },
  {
   "cell_type": "code",
   "execution_count": null,
   "metadata": {},
   "outputs": [],
   "source": []
  },
  {
   "cell_type": "code",
   "execution_count": null,
   "metadata": {},
   "outputs": [],
   "source": []
  },
  {
   "cell_type": "markdown",
   "metadata": {},
   "source": [
    "## compare with next day"
   ]
  },
  {
   "cell_type": "code",
   "execution_count": 24,
   "metadata": {},
   "outputs": [],
   "source": [
    "df2 = pd.read_csv(\"url_datasets/phishtank-18-04.csv\")\n",
    "urls2 = df2['url']\n",
    "new_urls2 = [u.split(\"/\")[2] for u in urls2]\n",
    "distinct_urls2 = list(set(new_urls2))"
   ]
  },
  {
   "cell_type": "code",
   "execution_count": 26,
   "metadata": {},
   "outputs": [],
   "source": [
    "new_novel = np.ones(len(distinct_urls2),dtype=bool)\n",
    "old_novel = np.ones(len(distinct_urls),dtype=bool)\n",
    "\n",
    "\n",
    "for url in new_urls:\n",
    "    for i,e in enumerate(distinct_urls2):\n",
    "        if url == e:\n",
    "            new_novel[i] = False\n",
    "            \n",
    "for url in new_urls2:\n",
    "    for i,e in enumerate(distinct_urls):\n",
    "        if url == e:\n",
    "            old_novel[i] = False"
   ]
  },
  {
   "cell_type": "code",
   "execution_count": 27,
   "metadata": {},
   "outputs": [
    {
     "data": {
      "text/plain": [
       "Counter({False: 5522, True: 240})"
      ]
     },
     "execution_count": 27,
     "metadata": {},
     "output_type": "execute_result"
    }
   ],
   "source": [
    "Counter(new_novel)"
   ]
  },
  {
   "cell_type": "code",
   "execution_count": 28,
   "metadata": {},
   "outputs": [
    {
     "data": {
      "text/plain": [
       "Counter({False: 5522, True: 322})"
      ]
     },
     "execution_count": 28,
     "metadata": {},
     "output_type": "execute_result"
    }
   ],
   "source": [
    "Counter(old_novel)"
   ]
  },
  {
   "cell_type": "code",
   "execution_count": null,
   "metadata": {},
   "outputs": [],
   "source": []
  }
 ],
 "metadata": {
  "kernelspec": {
   "display_name": "Python 3",
   "language": "python",
   "name": "python3"
  },
  "language_info": {
   "codemirror_mode": {
    "name": "ipython",
    "version": 3
   },
   "file_extension": ".py",
   "mimetype": "text/x-python",
   "name": "python",
   "nbconvert_exporter": "python",
   "pygments_lexer": "ipython3",
   "version": "3.7.6"
  }
 },
 "nbformat": 4,
 "nbformat_minor": 4
}
