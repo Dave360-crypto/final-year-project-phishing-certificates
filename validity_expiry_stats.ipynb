{
 "cells": [
  {
   "cell_type": "code",
   "execution_count": 2,
   "metadata": {},
   "outputs": [],
   "source": [
    "from OpenSSL import crypto\n",
    "import numpy as np\n",
    "import pandas as pd\n",
    "import matplotlib.pyplot as plt\n",
    "from collections import Counter\n",
    "import os\n",
    "import time"
   ]
  },
  {
   "cell_type": "code",
   "execution_count": 3,
   "metadata": {},
   "outputs": [],
   "source": [
    "def normalise_counter(ctr):\n",
    "    total = sum(ctr.values())\n",
    "    for key in ctr.keys():\n",
    "        ctr[key] /=total\n",
    "    return ctr"
   ]
  },
  {
   "cell_type": "code",
   "execution_count": 7,
   "metadata": {},
   "outputs": [],
   "source": [
    "phish_df = pd.read_csv('final_certificate_datasets/phish_dataset.csv')\n",
    "benign_df = pd.read_csv('final_certificate_datasets/benign_certs.csv')\n",
    "benign_df.drop_duplicates(subset=['CN'],inplace=True)\n",
    "phish_df2 = pd.read_csv('final_certificate_datasets/phish_harsh_subset.csv')\n",
    "phish_df3 =  pd.read_csv('final_certificate_datasets/phish_dataset_urls.csv')\n",
    "benign_df2 = pd.read_csv('final_certificate_datasets/benign_unpopular.csv')\n",
    "benign_df2.drop_duplicates(subset=['CN'],inplace=True)\n",
    "benign_df2['verCode'] = benign_df2['verCode'].astype(str)\n",
    "#benign_df3 = benign_df[:500]\n",
    "all_dfs = [phish_df,phish_df2,phish_df3,benign_df,benign_df2]\n",
    "labels = ['phish','phish subset','phish all urls','benign','benign unpopular']"
   ]
  },
  {
   "cell_type": "code",
   "execution_count": 17,
   "metadata": {},
   "outputs": [],
   "source": [
    "\n",
    "def experiment(df,valid_only=True):\n",
    "\n",
    "    if valid_only:\n",
    "        df = df.loc[df['verCode'].astype(str)=='0']\n",
    "        \n",
    "    print(Counter(df['verCode']))\n",
    "    return Counter(df['verCode'])\n",
    "    #print(normalise_counter(Counter(df['verCode'])))"
   ]
  },
  {
   "cell_type": "code",
   "execution_count": 28,
   "metadata": {},
   "outputs": [
    {
     "name": "stdout",
     "output_type": "stream",
     "text": [
      "Counter({'0': 4525, '10': 249, '18': 127, '21': 55, '19': 2, 'None': 1})\n",
      "Counter({'0': 1519, '10': 61, '18': 60, '21': 21, 'None': 1})\n",
      "Counter({'0': 12751, '10': 541, '18': 521, '21': 155, 'None': 5, '19': 4})\n",
      "Counter({'0': 27022, '10': 491, '21': 440, '18': 98, '19': 11, '20': 4, 'None': 2})\n",
      "Counter({'0': 9417, '10': 377, '21': 182, '18': 104, '19': 5, '20': 1})\n"
     ]
    }
   ],
   "source": [
    "all_keys = []\n",
    "all_ctrs = []\n",
    "for z,df in enumerate(all_dfs):\n",
    "    ctr = experiment(df,False)\n",
    "    all_keys+=ctr.keys()\n",
    "    all_ctrs.append(ctr)"
   ]
  },
  {
   "cell_type": "code",
   "execution_count": 29,
   "metadata": {},
   "outputs": [
    {
     "data": {
      "text/plain": [
       "{'0', '10', '18', '19', '20', '21', 'None'}"
      ]
     },
     "execution_count": 29,
     "metadata": {},
     "output_type": "execute_result"
    }
   ],
   "source": [
    "all_keys = set(all_keys)\n",
    "all_keys"
   ]
  },
  {
   "cell_type": "code",
   "execution_count": 41,
   "metadata": {},
   "outputs": [
    {
     "name": "stdout",
     "output_type": "stream",
     "text": [
      "[0, 0, 0, 0.00014251104460595695, 9.9147332936744e-05]\n",
      "[0.00020165355918531962, 0.0006016847172081829, 0.00035773055734420833, 7.125552230297848e-05, 0]\n",
      "[0.00040330711837063924, 0, 0.00028618444587536667, 0.00039190537266638165, 0.00049573666468372]\n",
      "[0.9124823553135712, 0.9139590854392299, 0.9122844673392001, 0.9627333618355423, 0.9336704342653183]\n",
      "[0.025610002016535592, 0.036101083032490974, 0.03727552407526651, 0.0034915205928459456, 0.010311322625421376]\n",
      "[0.05021173623714459, 0.036702767749699154, 0.038706446304643344, 0.017493230725381215, 0.03737854451715249]\n",
      "[0.01109094575519258, 0.01263537906137184, 0.011089647277670459, 0.015676214906655266, 0.01804481459448741]\n"
     ]
    }
   ],
   "source": [
    "new_df = pd.DataFrame()\n",
    "new_df['labels'] = labels\n",
    "for code in all_keys:\n",
    "    results = []\n",
    "    for i,ctr in enumerate(all_ctrs):\n",
    "        if code in ctr.keys():\n",
    "            results.append(ctr[code]/len(all_dfs[i]))\n",
    "        else:\n",
    "            results.append(0)\n",
    "    print(results)\n",
    "    new_df[code] = results"
   ]
  },
  {
   "cell_type": "code",
   "execution_count": 42,
   "metadata": {},
   "outputs": [
    {
     "data": {
      "text/html": [
       "<div>\n",
       "<style scoped>\n",
       "    .dataframe tbody tr th:only-of-type {\n",
       "        vertical-align: middle;\n",
       "    }\n",
       "\n",
       "    .dataframe tbody tr th {\n",
       "        vertical-align: top;\n",
       "    }\n",
       "\n",
       "    .dataframe thead th {\n",
       "        text-align: right;\n",
       "    }\n",
       "</style>\n",
       "<table border=\"1\" class=\"dataframe\">\n",
       "  <thead>\n",
       "    <tr style=\"text-align: right;\">\n",
       "      <th></th>\n",
       "      <th>labels</th>\n",
       "      <th>20</th>\n",
       "      <th>None</th>\n",
       "      <th>19</th>\n",
       "      <th>0</th>\n",
       "      <th>18</th>\n",
       "      <th>10</th>\n",
       "      <th>21</th>\n",
       "    </tr>\n",
       "  </thead>\n",
       "  <tbody>\n",
       "    <tr>\n",
       "      <th>0</th>\n",
       "      <td>phish</td>\n",
       "      <td>0.000000</td>\n",
       "      <td>0.000202</td>\n",
       "      <td>0.000403</td>\n",
       "      <td>0.912482</td>\n",
       "      <td>0.025610</td>\n",
       "      <td>0.050212</td>\n",
       "      <td>0.011091</td>\n",
       "    </tr>\n",
       "    <tr>\n",
       "      <th>1</th>\n",
       "      <td>phish subset</td>\n",
       "      <td>0.000000</td>\n",
       "      <td>0.000602</td>\n",
       "      <td>0.000000</td>\n",
       "      <td>0.913959</td>\n",
       "      <td>0.036101</td>\n",
       "      <td>0.036703</td>\n",
       "      <td>0.012635</td>\n",
       "    </tr>\n",
       "    <tr>\n",
       "      <th>2</th>\n",
       "      <td>phish all urls</td>\n",
       "      <td>0.000000</td>\n",
       "      <td>0.000358</td>\n",
       "      <td>0.000286</td>\n",
       "      <td>0.912284</td>\n",
       "      <td>0.037276</td>\n",
       "      <td>0.038706</td>\n",
       "      <td>0.011090</td>\n",
       "    </tr>\n",
       "    <tr>\n",
       "      <th>3</th>\n",
       "      <td>benign</td>\n",
       "      <td>0.000143</td>\n",
       "      <td>0.000071</td>\n",
       "      <td>0.000392</td>\n",
       "      <td>0.962733</td>\n",
       "      <td>0.003492</td>\n",
       "      <td>0.017493</td>\n",
       "      <td>0.015676</td>\n",
       "    </tr>\n",
       "    <tr>\n",
       "      <th>4</th>\n",
       "      <td>benign unpopular</td>\n",
       "      <td>0.000099</td>\n",
       "      <td>0.000000</td>\n",
       "      <td>0.000496</td>\n",
       "      <td>0.933670</td>\n",
       "      <td>0.010311</td>\n",
       "      <td>0.037379</td>\n",
       "      <td>0.018045</td>\n",
       "    </tr>\n",
       "  </tbody>\n",
       "</table>\n",
       "</div>"
      ],
      "text/plain": [
       "             labels        20      None        19         0        18  \\\n",
       "0             phish  0.000000  0.000202  0.000403  0.912482  0.025610   \n",
       "1      phish subset  0.000000  0.000602  0.000000  0.913959  0.036101   \n",
       "2    phish all urls  0.000000  0.000358  0.000286  0.912284  0.037276   \n",
       "3            benign  0.000143  0.000071  0.000392  0.962733  0.003492   \n",
       "4  benign unpopular  0.000099  0.000000  0.000496  0.933670  0.010311   \n",
       "\n",
       "         10        21  \n",
       "0  0.050212  0.011091  \n",
       "1  0.036703  0.012635  \n",
       "2  0.038706  0.011090  \n",
       "3  0.017493  0.015676  \n",
       "4  0.037379  0.018045  "
      ]
     },
     "execution_count": 42,
     "metadata": {},
     "output_type": "execute_result"
    }
   ],
   "source": [
    "new_df"
   ]
  },
  {
   "cell_type": "code",
   "execution_count": 43,
   "metadata": {},
   "outputs": [
    {
     "data": {
      "text/html": [
       "<div>\n",
       "<style scoped>\n",
       "    .dataframe tbody tr th:only-of-type {\n",
       "        vertical-align: middle;\n",
       "    }\n",
       "\n",
       "    .dataframe tbody tr th {\n",
       "        vertical-align: top;\n",
       "    }\n",
       "\n",
       "    .dataframe thead th {\n",
       "        text-align: right;\n",
       "    }\n",
       "</style>\n",
       "<table border=\"1\" class=\"dataframe\">\n",
       "  <thead>\n",
       "    <tr style=\"text-align: right;\">\n",
       "      <th></th>\n",
       "      <th>Valid (0)</th>\n",
       "      <th>Expired (10)</th>\n",
       "      <th>Self-signed (18 &amp; 19)</th>\n",
       "      <th>Verify Error (21)</th>\n",
       "      <th>Other</th>\n",
       "    </tr>\n",
       "    <tr>\n",
       "      <th>Dataset</th>\n",
       "      <th></th>\n",
       "      <th></th>\n",
       "      <th></th>\n",
       "      <th></th>\n",
       "      <th></th>\n",
       "    </tr>\n",
       "  </thead>\n",
       "  <tbody>\n",
       "    <tr>\n",
       "      <th>phish</th>\n",
       "      <td>0.912482</td>\n",
       "      <td>0.050212</td>\n",
       "      <td>0.026013</td>\n",
       "      <td>0.011091</td>\n",
       "      <td>0.000202</td>\n",
       "    </tr>\n",
       "    <tr>\n",
       "      <th>phish subset</th>\n",
       "      <td>0.913959</td>\n",
       "      <td>0.036703</td>\n",
       "      <td>0.036101</td>\n",
       "      <td>0.012635</td>\n",
       "      <td>0.000602</td>\n",
       "    </tr>\n",
       "    <tr>\n",
       "      <th>phish all urls</th>\n",
       "      <td>0.912284</td>\n",
       "      <td>0.038706</td>\n",
       "      <td>0.037562</td>\n",
       "      <td>0.011090</td>\n",
       "      <td>0.000358</td>\n",
       "    </tr>\n",
       "    <tr>\n",
       "      <th>benign</th>\n",
       "      <td>0.962733</td>\n",
       "      <td>0.017493</td>\n",
       "      <td>0.003883</td>\n",
       "      <td>0.015676</td>\n",
       "      <td>0.000214</td>\n",
       "    </tr>\n",
       "    <tr>\n",
       "      <th>benign unpopular</th>\n",
       "      <td>0.933670</td>\n",
       "      <td>0.037379</td>\n",
       "      <td>0.010807</td>\n",
       "      <td>0.018045</td>\n",
       "      <td>0.000099</td>\n",
       "    </tr>\n",
       "  </tbody>\n",
       "</table>\n",
       "</div>"
      ],
      "text/plain": [
       "                  Valid (0)  Expired (10)  Self-signed (18 & 19)  \\\n",
       "Dataset                                                            \n",
       "phish              0.912482      0.050212               0.026013   \n",
       "phish subset       0.913959      0.036703               0.036101   \n",
       "phish all urls     0.912284      0.038706               0.037562   \n",
       "benign             0.962733      0.017493               0.003883   \n",
       "benign unpopular   0.933670      0.037379               0.010807   \n",
       "\n",
       "                  Verify Error (21)     Other  \n",
       "Dataset                                        \n",
       "phish                      0.011091  0.000202  \n",
       "phish subset               0.012635  0.000602  \n",
       "phish all urls             0.011090  0.000358  \n",
       "benign                     0.015676  0.000214  \n",
       "benign unpopular           0.018045  0.000099  "
      ]
     },
     "execution_count": 43,
     "metadata": {},
     "output_type": "execute_result"
    }
   ],
   "source": [
    "df2 = pd.DataFrame()\n",
    "df2['Dataset']=labels\n",
    "df2['Valid (0)'] = new_df['0']\n",
    "df2['Expired (10)'] = new_df['10']\n",
    "df2['Self-signed (18 & 19)'] = [new_df['18'][i] + new_df['19'][i] for i in range(len(new_df))]\n",
    "df2['Verify Error (21)'] = new_df['21']\n",
    "df2['Other'] = [new_df['None'][i] + new_df['20'][i] for i in range(len(new_df))]\n",
    "df2.set_index('Dataset',inplace=True)\n",
    "df2\n"
   ]
  },
  {
   "cell_type": "code",
   "execution_count": 44,
   "metadata": {},
   "outputs": [
    {
     "data": {
      "text/plain": [
       "<AxesSubplot:ylabel='Dataset'>"
      ]
     },
     "execution_count": 44,
     "metadata": {},
     "output_type": "execute_result"
    },
    {
     "data": {
      "image/png": "[encoded data removed]",
      "text/plain": [
       "<Figure size 432x288 with 1 Axes>"
      ]
     },
     "metadata": {
      "needs_background": "light"
     },
     "output_type": "display_data"
    }
   ],
   "source": [
    "df2.plot(y=['Valid (0)','Expired (10)','Self-signed (18 & 19)','Verify Error (21)','Other'],kind='barh',stacked=True)"
   ]
  },
  {
   "cell_type": "markdown",
   "metadata": {},
   "source": [
    "### phish:"
   ]
  },
  {
   "cell_type": "code",
   "execution_count": 13,
   "metadata": {},
   "outputs": [
    {
     "data": {
      "text/plain": [
       "Counter({'0': 4525, '10': 249, '18': 127, '21': 55, 'None': 1, '19': 2})"
      ]
     },
     "execution_count": 13,
     "metadata": {},
     "output_type": "execute_result"
    }
   ],
   "source": [
    "Counter(phish_df['verCode'])"
   ]
  },
  {
   "cell_type": "code",
   "execution_count": 12,
   "metadata": {},
   "outputs": [
    {
     "data": {
      "text/plain": [
       "Counter({'0': 0.9124823553135712,\n",
       "         '10': 0.05021173623714459,\n",
       "         '18': 0.025610002016535592,\n",
       "         '21': 0.01109094575519258,\n",
       "         'None': 0.00020165355918531962,\n",
       "         '19': 0.00040330711837063924})"
      ]
     },
     "execution_count": 12,
     "metadata": {},
     "output_type": "execute_result"
    }
   ],
   "source": [
    "ctr = Counter(phish_df['verCode'])\n",
    "ctr = normalise_counter(ctr)\n",
    "ctr"
   ]
  },
  {
   "cell_type": "markdown",
   "metadata": {},
   "source": [
    "### benign:"
   ]
  },
  {
   "cell_type": "code",
   "execution_count": 16,
   "metadata": {},
   "outputs": [
    {
     "data": {
      "text/plain": [
       "Counter({'0': 39691,\n",
       "         '21': 483,\n",
       "         '10': 581,\n",
       "         '18': 215,\n",
       "         'None': 2,\n",
       "         '20': 4,\n",
       "         '19': 13})"
      ]
     },
     "execution_count": 16,
     "metadata": {},
     "output_type": "execute_result"
    }
   ],
   "source": [
    "Counter(benign_df['verCode'])"
   ]
  },
  {
   "cell_type": "code",
   "execution_count": 17,
   "metadata": {},
   "outputs": [
    {
     "data": {
      "text/plain": [
       "Counter({'0': 0.9683329673814925,\n",
       "         '21': 0.011783649271755837,\n",
       "         '10': 0.014174534631242528,\n",
       "         '18': 0.005245309717241211,\n",
       "         'None': 4.879357876503452e-05,\n",
       "         '20': 9.758715753006904e-05,\n",
       "         '19': 0.0003171582619727244})"
      ]
     },
     "execution_count": 17,
     "metadata": {},
     "output_type": "execute_result"
    }
   ],
   "source": [
    "ctr = Counter(benign_df['verCode'])\n",
    "ctr = normalise_counter(ctr)\n",
    "ctr"
   ]
  },
  {
   "cell_type": "code",
   "execution_count": 18,
   "metadata": {},
   "outputs": [],
   "source": [
    "#top benign\n",
    "codes = benign_df['verCode']\n",
    "b200 = codes[:200]\n",
    "b5000 = codes[100:5000]"
   ]
  },
  {
   "cell_type": "code",
   "execution_count": 19,
   "metadata": {},
   "outputs": [
    {
     "data": {
      "text/plain": [
       "Counter({'0': 0.995, '21': 0.005})"
      ]
     },
     "execution_count": 19,
     "metadata": {},
     "output_type": "execute_result"
    }
   ],
   "source": [
    "ctr = Counter(b200)\n",
    "ctr = normalise_counter(ctr)\n",
    "ctr"
   ]
  },
  {
   "cell_type": "code",
   "execution_count": 23,
   "metadata": {},
   "outputs": [
    {
     "data": {
      "text/plain": [
       "Counter({'0': 199, '21': 1})"
      ]
     },
     "execution_count": 23,
     "metadata": {},
     "output_type": "execute_result"
    }
   ],
   "source": [
    "Counter(b200)"
   ]
  },
  {
   "cell_type": "code",
   "execution_count": 20,
   "metadata": {},
   "outputs": [
    {
     "data": {
      "text/plain": [
       "Counter({'0': 0.9861224489795918,\n",
       "         '21': 0.00816326530612245,\n",
       "         '10': 0.004081632653061225,\n",
       "         '18': 0.0014285714285714286,\n",
       "         'None': 0.00020408163265306123})"
      ]
     },
     "execution_count": 20,
     "metadata": {},
     "output_type": "execute_result"
    }
   ],
   "source": [
    "ctr = Counter(b5000)\n",
    "ctr = normalise_counter(ctr)\n",
    "ctr"
   ]
  },
  {
   "cell_type": "code",
   "execution_count": 27,
   "metadata": {},
   "outputs": [
    {
     "data": {
      "text/html": [
       "<div>\n",
       "<style scoped>\n",
       "    .dataframe tbody tr th:only-of-type {\n",
       "        vertical-align: middle;\n",
       "    }\n",
       "\n",
       "    .dataframe tbody tr th {\n",
       "        vertical-align: top;\n",
       "    }\n",
       "\n",
       "    .dataframe thead th {\n",
       "        text-align: right;\n",
       "    }\n",
       "</style>\n",
       "<table border=\"1\" class=\"dataframe\">\n",
       "  <thead>\n",
       "    <tr style=\"text-align: right;\">\n",
       "      <th></th>\n",
       "      <th>Unnamed: 0</th>\n",
       "      <th>CN</th>\n",
       "      <th>O</th>\n",
       "      <th>C</th>\n",
       "      <th>businessCategory</th>\n",
       "      <th>serialNumber</th>\n",
       "      <th>juristiction</th>\n",
       "      <th>issuer_CN</th>\n",
       "      <th>issuer_O</th>\n",
       "      <th>expired</th>\n",
       "      <th>notBefore</th>\n",
       "      <th>notAfter</th>\n",
       "      <th>verCode</th>\n",
       "      <th>time_collected</th>\n",
       "    </tr>\n",
       "  </thead>\n",
       "  <tbody>\n",
       "    <tr>\n",
       "      <th>0</th>\n",
       "      <td>0</td>\n",
       "      <td>www.abcnike.shop</td>\n",
       "      <td>NaN</td>\n",
       "      <td>NaN</td>\n",
       "      <td>NaN</td>\n",
       "      <td>NaN</td>\n",
       "      <td>NaN</td>\n",
       "      <td>R3</td>\n",
       "      <td>Let's Encrypt</td>\n",
       "      <td>0.0</td>\n",
       "      <td>b'20210326015631Z'</td>\n",
       "      <td>b'20210624015631Z'</td>\n",
       "      <td>0</td>\n",
       "      <td>1.620480e+09</td>\n",
       "    </tr>\n",
       "    <tr>\n",
       "      <th>2</th>\n",
       "      <td>2</td>\n",
       "      <td>*.google.com</td>\n",
       "      <td>Google LLC</td>\n",
       "      <td>US</td>\n",
       "      <td>NaN</td>\n",
       "      <td>NaN</td>\n",
       "      <td>NaN</td>\n",
       "      <td>GTS CA 1O1</td>\n",
       "      <td>Google Trust Services</td>\n",
       "      <td>0.0</td>\n",
       "      <td>b'20210316192807Z'</td>\n",
       "      <td>b'20210608192806Z'</td>\n",
       "      <td>0</td>\n",
       "      <td>1.620480e+09</td>\n",
       "    </tr>\n",
       "    <tr>\n",
       "      <th>3</th>\n",
       "      <td>3</td>\n",
       "      <td>*.hostgator.com.br</td>\n",
       "      <td>NaN</td>\n",
       "      <td>NaN</td>\n",
       "      <td>NaN</td>\n",
       "      <td>NaN</td>\n",
       "      <td>NaN</td>\n",
       "      <td>Sectigo RSA Domain Validation Secure Server CA</td>\n",
       "      <td>Sectigo Limited</td>\n",
       "      <td>0.0</td>\n",
       "      <td>b'20200908000000Z'</td>\n",
       "      <td>b'20210908235959Z'</td>\n",
       "      <td>0</td>\n",
       "      <td>1.620480e+09</td>\n",
       "    </tr>\n",
       "    <tr>\n",
       "      <th>4</th>\n",
       "      <td>4</td>\n",
       "      <td>*.mailjet.com</td>\n",
       "      <td>Mailjet SAS</td>\n",
       "      <td>FR</td>\n",
       "      <td>NaN</td>\n",
       "      <td>NaN</td>\n",
       "      <td>NaN</td>\n",
       "      <td>DigiCert SHA2 Secure Server CA</td>\n",
       "      <td>DigiCert Inc</td>\n",
       "      <td>0.0</td>\n",
       "      <td>b'20200302000000Z'</td>\n",
       "      <td>b'20210514120000Z'</td>\n",
       "      <td>0</td>\n",
       "      <td>1.620480e+09</td>\n",
       "    </tr>\n",
       "    <tr>\n",
       "      <th>5</th>\n",
       "      <td>5</td>\n",
       "      <td>raa.namecheap.com</td>\n",
       "      <td>NaN</td>\n",
       "      <td>NaN</td>\n",
       "      <td>NaN</td>\n",
       "      <td>NaN</td>\n",
       "      <td>NaN</td>\n",
       "      <td>Sectigo RSA Domain Validation Secure Server CA</td>\n",
       "      <td>Sectigo Limited</td>\n",
       "      <td>0.0</td>\n",
       "      <td>b'20201111000000Z'</td>\n",
       "      <td>b'20211129235959Z'</td>\n",
       "      <td>0</td>\n",
       "      <td>1.620480e+09</td>\n",
       "    </tr>\n",
       "    <tr>\n",
       "      <th>...</th>\n",
       "      <td>...</td>\n",
       "      <td>...</td>\n",
       "      <td>...</td>\n",
       "      <td>...</td>\n",
       "      <td>...</td>\n",
       "      <td>...</td>\n",
       "      <td>...</td>\n",
       "      <td>...</td>\n",
       "      <td>...</td>\n",
       "      <td>...</td>\n",
       "      <td>...</td>\n",
       "      <td>...</td>\n",
       "      <td>...</td>\n",
       "      <td>...</td>\n",
       "    </tr>\n",
       "    <tr>\n",
       "      <th>4954</th>\n",
       "      <td>368</td>\n",
       "      <td>signaturetn.com</td>\n",
       "      <td>NaN</td>\n",
       "      <td>NaN</td>\n",
       "      <td>NaN</td>\n",
       "      <td>NaN</td>\n",
       "      <td>NaN</td>\n",
       "      <td>cPanel, Inc. Certification Authority</td>\n",
       "      <td>cPanel, Inc.</td>\n",
       "      <td>0.0</td>\n",
       "      <td>b'20210508000000Z'</td>\n",
       "      <td>b'20210806235959Z'</td>\n",
       "      <td>0</td>\n",
       "      <td>1.620495e+09</td>\n",
       "    </tr>\n",
       "    <tr>\n",
       "      <th>4955</th>\n",
       "      <td>372</td>\n",
       "      <td>cpanel.catalyx.biz</td>\n",
       "      <td>NaN</td>\n",
       "      <td>NaN</td>\n",
       "      <td>NaN</td>\n",
       "      <td>NaN</td>\n",
       "      <td>NaN</td>\n",
       "      <td>R3</td>\n",
       "      <td>Let's Encrypt</td>\n",
       "      <td>0.0</td>\n",
       "      <td>b'20210310192820Z'</td>\n",
       "      <td>b'20210608192820Z'</td>\n",
       "      <td>0</td>\n",
       "      <td>1.620495e+09</td>\n",
       "    </tr>\n",
       "    <tr>\n",
       "      <th>4956</th>\n",
       "      <td>375</td>\n",
       "      <td>freeler.de</td>\n",
       "      <td>NaN</td>\n",
       "      <td>NaN</td>\n",
       "      <td>NaN</td>\n",
       "      <td>NaN</td>\n",
       "      <td>NaN</td>\n",
       "      <td>Starfield Secure Certificate Authority - G2</td>\n",
       "      <td>Starfield Technologies, Inc.</td>\n",
       "      <td>0.0</td>\n",
       "      <td>b'20200704160310Z'</td>\n",
       "      <td>b'20220730080815Z'</td>\n",
       "      <td>0</td>\n",
       "      <td>1.620495e+09</td>\n",
       "    </tr>\n",
       "    <tr>\n",
       "      <th>4957</th>\n",
       "      <td>377</td>\n",
       "      <td>nwcadvocates.com</td>\n",
       "      <td>NaN</td>\n",
       "      <td>NaN</td>\n",
       "      <td>NaN</td>\n",
       "      <td>NaN</td>\n",
       "      <td>NaN</td>\n",
       "      <td>cPanel, Inc. Certification Authority</td>\n",
       "      <td>cPanel, Inc.</td>\n",
       "      <td>0.0</td>\n",
       "      <td>b'20210330000000Z'</td>\n",
       "      <td>b'20210628235959Z'</td>\n",
       "      <td>0</td>\n",
       "      <td>1.620495e+09</td>\n",
       "    </tr>\n",
       "    <tr>\n",
       "      <th>4958</th>\n",
       "      <td>380</td>\n",
       "      <td>qwikkar.com</td>\n",
       "      <td>NaN</td>\n",
       "      <td>NaN</td>\n",
       "      <td>NaN</td>\n",
       "      <td>NaN</td>\n",
       "      <td>NaN</td>\n",
       "      <td>Go Daddy Secure Certificate Authority - G2</td>\n",
       "      <td>GoDaddy.com, Inc.</td>\n",
       "      <td>0.0</td>\n",
       "      <td>b'20200123121021Z'</td>\n",
       "      <td>b'20220123121021Z'</td>\n",
       "      <td>0</td>\n",
       "      <td>1.620495e+09</td>\n",
       "    </tr>\n",
       "  </tbody>\n",
       "</table>\n",
       "<p>4525 rows × 14 columns</p>\n",
       "</div>"
      ],
      "text/plain": [
       "      Unnamed: 0                  CN            O    C businessCategory  \\\n",
       "0              0    www.abcnike.shop          NaN  NaN              NaN   \n",
       "2              2        *.google.com   Google LLC   US              NaN   \n",
       "3              3  *.hostgator.com.br          NaN  NaN              NaN   \n",
       "4              4       *.mailjet.com  Mailjet SAS   FR              NaN   \n",
       "5              5   raa.namecheap.com          NaN  NaN              NaN   \n",
       "...          ...                 ...          ...  ...              ...   \n",
       "4954         368     signaturetn.com          NaN  NaN              NaN   \n",
       "4955         372  cpanel.catalyx.biz          NaN  NaN              NaN   \n",
       "4956         375          freeler.de          NaN  NaN              NaN   \n",
       "4957         377    nwcadvocates.com          NaN  NaN              NaN   \n",
       "4958         380         qwikkar.com          NaN  NaN              NaN   \n",
       "\n",
       "     serialNumber juristiction  \\\n",
       "0             NaN          NaN   \n",
       "2             NaN          NaN   \n",
       "3             NaN          NaN   \n",
       "4             NaN          NaN   \n",
       "5             NaN          NaN   \n",
       "...           ...          ...   \n",
       "4954          NaN          NaN   \n",
       "4955          NaN          NaN   \n",
       "4956          NaN          NaN   \n",
       "4957          NaN          NaN   \n",
       "4958          NaN          NaN   \n",
       "\n",
       "                                           issuer_CN  \\\n",
       "0                                                 R3   \n",
       "2                                         GTS CA 1O1   \n",
       "3     Sectigo RSA Domain Validation Secure Server CA   \n",
       "4                     DigiCert SHA2 Secure Server CA   \n",
       "5     Sectigo RSA Domain Validation Secure Server CA   \n",
       "...                                              ...   \n",
       "4954            cPanel, Inc. Certification Authority   \n",
       "4955                                              R3   \n",
       "4956     Starfield Secure Certificate Authority - G2   \n",
       "4957            cPanel, Inc. Certification Authority   \n",
       "4958      Go Daddy Secure Certificate Authority - G2   \n",
       "\n",
       "                          issuer_O  expired           notBefore  \\\n",
       "0                    Let's Encrypt      0.0  b'20210326015631Z'   \n",
       "2            Google Trust Services      0.0  b'20210316192807Z'   \n",
       "3                  Sectigo Limited      0.0  b'20200908000000Z'   \n",
       "4                     DigiCert Inc      0.0  b'20200302000000Z'   \n",
       "5                  Sectigo Limited      0.0  b'20201111000000Z'   \n",
       "...                            ...      ...                 ...   \n",
       "4954                  cPanel, Inc.      0.0  b'20210508000000Z'   \n",
       "4955                 Let's Encrypt      0.0  b'20210310192820Z'   \n",
       "4956  Starfield Technologies, Inc.      0.0  b'20200704160310Z'   \n",
       "4957                  cPanel, Inc.      0.0  b'20210330000000Z'   \n",
       "4958             GoDaddy.com, Inc.      0.0  b'20200123121021Z'   \n",
       "\n",
       "                notAfter verCode  time_collected  \n",
       "0     b'20210624015631Z'       0    1.620480e+09  \n",
       "2     b'20210608192806Z'       0    1.620480e+09  \n",
       "3     b'20210908235959Z'       0    1.620480e+09  \n",
       "4     b'20210514120000Z'       0    1.620480e+09  \n",
       "5     b'20211129235959Z'       0    1.620480e+09  \n",
       "...                  ...     ...             ...  \n",
       "4954  b'20210806235959Z'       0    1.620495e+09  \n",
       "4955  b'20210608192820Z'       0    1.620495e+09  \n",
       "4956  b'20220730080815Z'       0    1.620495e+09  \n",
       "4957  b'20210628235959Z'       0    1.620495e+09  \n",
       "4958  b'20220123121021Z'       0    1.620495e+09  \n",
       "\n",
       "[4525 rows x 14 columns]"
      ]
     },
     "execution_count": 27,
     "metadata": {},
     "output_type": "execute_result"
    }
   ],
   "source": [
    "phish_df.loc[phish_df['verCode']=='0']"
   ]
  },
  {
   "cell_type": "code",
   "execution_count": null,
   "metadata": {},
   "outputs": [],
   "source": []
  }
 ],
 "metadata": {
  "kernelspec": {
   "display_name": "Python 3",
   "language": "python",
   "name": "python3"
  },
  "language_info": {
   "codemirror_mode": {
    "name": "ipython",
    "version": 3
   },
   "file_extension": ".py",
   "mimetype": "text/x-python",
   "name": "python",
   "nbconvert_exporter": "python",
   "pygments_lexer": "ipython3",
   "version": "3.7.6"
  }
 },
 "nbformat": 4,
 "nbformat_minor": 4
}
