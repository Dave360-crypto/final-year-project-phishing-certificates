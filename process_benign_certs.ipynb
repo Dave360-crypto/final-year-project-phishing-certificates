{
 "cells": [
  {
   "cell_type": "code",
   "execution_count": 1,
   "metadata": {},
   "outputs": [],
   "source": [
    "from OpenSSL import crypto\n",
    "import numpy as np\n",
    "import pandas as pd\n",
    "import matplotlib.pyplot as plt\n",
    "from collections import Counter\n",
    "import os"
   ]
  },
  {
   "cell_type": "code",
   "execution_count": 2,
   "metadata": {},
   "outputs": [],
   "source": [
    "def get_existing_certs(distinct_urls,folder):\n",
    "    successes = []\n",
    "    data_path = folder+'/'\n",
    "    for url in distinct_urls:\n",
    "        try:\n",
    "            f = open(data_path+url)    \n",
    "            if f.readline() != '':\n",
    "                successes.append(url)\n",
    "        except:\n",
    "            pass\n",
    "    return successes"
   ]
  },
  {
   "cell_type": "code",
   "execution_count": 1,
   "metadata": {},
   "outputs": [
    {
     "ename": "NameError",
     "evalue": "name 'pd' is not defined",
     "output_type": "error",
     "traceback": [
      "\u001b[0;31m---------------------------------------------------------------------------\u001b[0m",
      "\u001b[0;31mNameError\u001b[0m                                 Traceback (most recent call last)",
      "\u001b[0;32m<ipython-input-1-10ec80aa89d4>\u001b[0m in \u001b[0;36m<module>\u001b[0;34m\u001b[0m\n\u001b[1;32m      1\u001b[0m \u001b[0mpath\u001b[0m \u001b[0;34m=\u001b[0m \u001b[0;34m\"url_datasets/benign_unpopular20000.csv\"\u001b[0m\u001b[0;34m\u001b[0m\u001b[0;34m\u001b[0m\u001b[0m\n\u001b[0;32m----> 2\u001b[0;31m \u001b[0mdf\u001b[0m \u001b[0;34m=\u001b[0m \u001b[0mpd\u001b[0m\u001b[0;34m.\u001b[0m\u001b[0mread_csv\u001b[0m\u001b[0;34m(\u001b[0m\u001b[0mpath\u001b[0m\u001b[0;34m)\u001b[0m\u001b[0;34m\u001b[0m\u001b[0;34m\u001b[0m\u001b[0m\n\u001b[0m\u001b[1;32m      3\u001b[0m \u001b[0murls\u001b[0m \u001b[0;34m=\u001b[0m \u001b[0mdf\u001b[0m\u001b[0;34m[\u001b[0m\u001b[0;34m'Domain'\u001b[0m\u001b[0;34m]\u001b[0m\u001b[0;34m\u001b[0m\u001b[0;34m\u001b[0m\u001b[0m\n",
      "\u001b[0;31mNameError\u001b[0m: name 'pd' is not defined"
     ]
    }
   ],
   "source": [
    "path = \"benign_unpopular20000.csv\"\n",
    "df = pd.read_csv(path)\n",
    "urls = df['Domain']"
   ]
  },
  {
   "cell_type": "code",
   "execution_count": 4,
   "metadata": {},
   "outputs": [],
   "source": [
    "how_many = 50000\n",
    "urls = urls[:50000]"
   ]
  },
  {
   "cell_type": "code",
   "execution_count": 5,
   "metadata": {},
   "outputs": [
    {
     "data": {
      "text/plain": [
       "41680"
      ]
     },
     "execution_count": 5,
     "metadata": {},
     "output_type": "execute_result"
    }
   ],
   "source": [
    "data_path = 'benign_data'\n",
    "successes = get_existing_certs(urls,data_path)\n",
    "len(successes)"
   ]
  },
  {
   "cell_type": "code",
   "execution_count": 6,
   "metadata": {},
   "outputs": [
    {
     "ename": "NameError",
     "evalue": "name 'f' is not defined",
     "output_type": "error",
     "traceback": [
      "\u001b[0;31m---------------------------------------------------------------------------\u001b[0m",
      "\u001b[0;31mNameError\u001b[0m                                 Traceback (most recent call last)",
      "\u001b[0;32m<ipython-input-6-0b29074aa9ef>\u001b[0m in \u001b[0;36m<module>\u001b[0;34m\u001b[0m\n\u001b[1;32m      7\u001b[0m \u001b[0;34m\u001b[0m\u001b[0m\n\u001b[1;32m      8\u001b[0m \u001b[0;34m\u001b[0m\u001b[0m\n\u001b[0;32m----> 9\u001b[0;31m     \u001b[0mline\u001b[0m \u001b[0;34m=\u001b[0m \u001b[0mf\u001b[0m\u001b[0;34m.\u001b[0m\u001b[0mreadline\u001b[0m\u001b[0;34m(\u001b[0m\u001b[0;34m)\u001b[0m\u001b[0;34m\u001b[0m\u001b[0;34m\u001b[0m\u001b[0m\n\u001b[0m\u001b[1;32m     10\u001b[0m     \u001b[0mfound_cert\u001b[0m \u001b[0;34m=\u001b[0m \u001b[0;32mFalse\u001b[0m\u001b[0;34m\u001b[0m\u001b[0;34m\u001b[0m\u001b[0m\n\u001b[1;32m     11\u001b[0m     \u001b[0;32mwhile\u001b[0m \u001b[0mline\u001b[0m \u001b[0;34m!=\u001b[0m \u001b[0;34m''\u001b[0m\u001b[0;34m:\u001b[0m\u001b[0;34m\u001b[0m\u001b[0;34m\u001b[0m\u001b[0m\n",
      "\u001b[0;31mNameError\u001b[0m: name 'f' is not defined"
     ]
    }
   ],
   "source": [
    "missing_cert_urls = []\n",
    "found_url_indices = np.zeros(len(successes),dtype=bool)\n",
    "certs = []\n",
    "creation_times = []\n",
    "for i,url in enumerate(successes):\n",
    "    cert_file = 'benign_data/'+url\n",
    "    \n",
    "    f = open(cert_file)\n",
    "    line = f.readline()\n",
    "    found_cert = False\n",
    "    while line != '':\n",
    "        line = f.readline()\n",
    "        if \"-----BEGIN CERTIFICATE-----\" in line:\n",
    "            found_cert=True\n",
    "            line = ''\n",
    "    f.close()\n",
    "    if found_cert:\n",
    "        found_url_indices[i] = True\n",
    "        cert = crypto.load_certificate(crypto.FILETYPE_PEM, open(cert_file).read())\n",
    "        certs.append(cert)\n",
    "        t = os.path.getctime(cert_file)\n",
    "        creation_times.append(t)\n",
    "    else:\n",
    "        missing_cert_urls.append(cert)\n",
    "len(missing_cert_urls)"
   ]
  },
  {
   "cell_type": "code",
   "execution_count": null,
   "metadata": {},
   "outputs": [],
   "source": [
    "final_df = pd.DataFrame()\n",
    "\n",
    "subjects = [cert.get_subject() for cert in certs]\n",
    "issuers = [cert.get_issuer() for cert in certs]\n",
    "\n",
    "expiries = [cert.has_expired() for cert in certs]"
   ]
  },
  {
   "cell_type": "code",
   "execution_count": null,
   "metadata": {},
   "outputs": [],
   "source": [
    "Counter(expiries)"
   ]
  },
  {
   "cell_type": "code",
   "execution_count": null,
   "metadata": {},
   "outputs": [],
   "source": [
    "final_df['CN'] = [s.CN for s in subjects]\n",
    "final_df['O'] = [s.O for s in subjects]\n",
    "final_df['C'] = [s.C for s in subjects]\n",
    "final_df['businessCategory'] = [s.businessCategory for s in subjects]\n",
    "final_df['serialNumber'] = [s.serialNumber for s in subjects]\n",
    "final_df['juristiction'] = [s.jurisdictionLocalityName for s in subjects]\n",
    "final_df['issuer_CN'] = [i.CN for i in issuers]\n",
    "final_df['issuer_O'] = [i.O for i in issuers]\n",
    "final_df['expired'] = expiries\n",
    "final_df['notBefore'] = [c.get_notBefore() for c in certs]\n",
    "final_df['notAfter'] = [c.get_notAfter() for c in certs]\n",
    "\n",
    "verifications = []\n",
    "for i,url in enumerate(successes):\n",
    "    if found_url_indices[i]:\n",
    "        f = open(data_path+'/'+url)\n",
    "        line = f.readline()\n",
    "        verified=False\n",
    "        while line != '':\n",
    "            if \"Verify return code:\" in line:\n",
    "                if verified:\n",
    "                    #print(url)\n",
    "                    pass\n",
    "                else:\n",
    "                    verifications.append(line)\n",
    "                    verified=True\n",
    "            line = f.readline()\n",
    "        if not verified:\n",
    "            #print(\"FAILED: \"+url)\n",
    "            verifications.append('Verify return code: None (none)')\n",
    "        f.close()  \n",
    "new_verifications = [v[5:].split(' ')[3] for v in verifications]\n",
    "final_df['verCode'] = new_verifications\n",
    "final_df['time_collected'] = creation_times"
   ]
  },
  {
   "cell_type": "code",
   "execution_count": null,
   "metadata": {},
   "outputs": [],
   "source": [
    "final_df"
   ]
  },
  {
   "cell_type": "code",
   "execution_count": null,
   "metadata": {},
   "outputs": [],
   "source": [
    "final_df.to_csv('final_certificate_datasets/benign_certs.csv')"
   ]
  },
  {
   "cell_type": "code",
   "execution_count": null,
   "metadata": {},
   "outputs": [],
   "source": []
  }
 ],
 "metadata": {
  "kernelspec": {
   "display_name": "Python 3",
   "language": "python",
   "name": "python3"
  },
  "language_info": {
   "codemirror_mode": {
    "name": "ipython",
    "version": 3
   },
   "file_extension": ".py",
   "mimetype": "text/x-python",
   "name": "python",
   "nbconvert_exporter": "python",
   "pygments_lexer": "ipython3",
   "version": "3.7.6"
  }
 },
 "nbformat": 4,
 "nbformat_minor": 4
}
